{
 "cells": [
  {
   "cell_type": "code",
   "execution_count": 1,
   "metadata": {
    "vscode": {
     "languageId": "r"
    }
   },
   "outputs": [
    {
     "name": "stderr",
     "output_type": "stream",
     "text": [
      "\n",
      "Attaching package: ‘cowplot’\n",
      "\n",
      "\n",
      "The following object is masked from ‘package:ggpubr’:\n",
      "\n",
      "    get_legend\n",
      "\n",
      "\n"
     ]
    }
   ],
   "source": [
    "library(ggplot2)\n",
    "library(ggpubr)\n",
    "library(cowplot)\n",
    "library(tidyr)"
   ]
  },
  {
   "cell_type": "code",
   "execution_count": 2,
   "metadata": {
    "vscode": {
     "languageId": "r"
    }
   },
   "outputs": [],
   "source": [
    "column_names = c(\"chrom\", \"start\", \"end\", \"RBP\", \"span\", \"index\")"
   ]
  },
  {
   "cell_type": "code",
   "execution_count": 3,
   "metadata": {
    "vscode": {
     "languageId": "r"
    }
   },
   "outputs": [],
   "source": [
    "color = c(\"#2278B5\", \"#F57F20\", \"#2FA148\", \"#D62A28\")"
   ]
  },
  {
   "cell_type": "code",
   "execution_count": 4,
   "metadata": {
    "vscode": {
     "languageId": "r"
    }
   },
   "outputs": [],
   "source": [
    "df1 = read.csv(\"../analysis/index/rsv_vsv/G1_kethoxal-A549-Mock_M20_B01.txt\", sep=\"\\t\")\n",
    "colnames(df1) = column_names\n",
    "df1$condition = \"Mock\"\n",
    "\n",
    "df2 = read.csv(\"../analysis/index/rsv_vsv/G1_kethoxal-A549-RSV_M20_B01.txt\", sep=\"\\t\")\n",
    "colnames(df2) = column_names\n",
    "df2$condition = \"RSV\"\n",
    "\n",
    "df3 = read.csv(\"../analysis/index/rsv_vsv/G1_kethoxal-A549-VSV_M20_B01.txt\", sep=\"\\t\")\n",
    "colnames(df3) = column_names\n",
    "df3$condition = \"VSV\"\n",
    "\n",
    "df = rbind(df1, df2, df3)\n",
    "df$condition = factor(df$condition, levels=c(\"Mock\", \"RSV\", \"VSV\"))"
   ]
  },
  {
   "cell_type": "code",
   "execution_count": 5,
   "metadata": {
    "vscode": {
     "languageId": "r"
    }
   },
   "outputs": [
    {
     "data": {
      "text/html": [
       "<table>\n",
       "<caption>A data.frame: 6 × 7</caption>\n",
       "<thead>\n",
       "\t<tr><th></th><th scope=col>chrom</th><th scope=col>start</th><th scope=col>end</th><th scope=col>RBP</th><th scope=col>span</th><th scope=col>index</th><th scope=col>condition</th></tr>\n",
       "\t<tr><th></th><th scope=col>&lt;fct&gt;</th><th scope=col>&lt;int&gt;</th><th scope=col>&lt;int&gt;</th><th scope=col>&lt;fct&gt;</th><th scope=col>&lt;int&gt;</th><th scope=col>&lt;dbl&gt;</th><th scope=col>&lt;fct&gt;</th></tr>\n",
       "</thead>\n",
       "<tbody>\n",
       "\t<tr><th scope=row>1</th><td>hg19_NM_000034</td><td>508</td><td> 731</td><td>None</td><td>223</td><td>0.6720847</td><td>Mock</td></tr>\n",
       "\t<tr><th scope=row>2</th><td>hg19_NM_000034</td><td>599</td><td> 850</td><td>None</td><td>251</td><td>0.7149242</td><td>Mock</td></tr>\n",
       "\t<tr><th scope=row>3</th><td>hg19_NM_000034</td><td>717</td><td>1679</td><td>None</td><td>962</td><td>0.9918521</td><td>Mock</td></tr>\n",
       "\t<tr><th scope=row>4</th><td>hg19_NM_000034</td><td>864</td><td>1308</td><td>None</td><td>444</td><td>0.8913909</td><td>Mock</td></tr>\n",
       "\t<tr><th scope=row>5</th><td>hg19_NM_000034</td><td>903</td><td> 936</td><td>None</td><td> 33</td><td>0.1521063</td><td>Mock</td></tr>\n",
       "\t<tr><th scope=row>6</th><td>hg19_NM_000034</td><td>906</td><td>1074</td><td>None</td><td>168</td><td>0.5682895</td><td>Mock</td></tr>\n",
       "</tbody>\n",
       "</table>\n"
      ],
      "text/latex": [
       "A data.frame: 6 × 7\n",
       "\\begin{tabular}{r|lllllll}\n",
       "  & chrom & start & end & RBP & span & index & condition\\\\\n",
       "  & <fct> & <int> & <int> & <fct> & <int> & <dbl> & <fct>\\\\\n",
       "\\hline\n",
       "\t1 & hg19\\_NM\\_000034 & 508 &  731 & None & 223 & 0.6720847 & Mock\\\\\n",
       "\t2 & hg19\\_NM\\_000034 & 599 &  850 & None & 251 & 0.7149242 & Mock\\\\\n",
       "\t3 & hg19\\_NM\\_000034 & 717 & 1679 & None & 962 & 0.9918521 & Mock\\\\\n",
       "\t4 & hg19\\_NM\\_000034 & 864 & 1308 & None & 444 & 0.8913909 & Mock\\\\\n",
       "\t5 & hg19\\_NM\\_000034 & 903 &  936 & None &  33 & 0.1521063 & Mock\\\\\n",
       "\t6 & hg19\\_NM\\_000034 & 906 & 1074 & None & 168 & 0.5682895 & Mock\\\\\n",
       "\\end{tabular}\n"
      ],
      "text/markdown": [
       "\n",
       "A data.frame: 6 × 7\n",
       "\n",
       "| <!--/--> | chrom &lt;fct&gt; | start &lt;int&gt; | end &lt;int&gt; | RBP &lt;fct&gt; | span &lt;int&gt; | index &lt;dbl&gt; | condition &lt;fct&gt; |\n",
       "|---|---|---|---|---|---|---|---|\n",
       "| 1 | hg19_NM_000034 | 508 |  731 | None | 223 | 0.6720847 | Mock |\n",
       "| 2 | hg19_NM_000034 | 599 |  850 | None | 251 | 0.7149242 | Mock |\n",
       "| 3 | hg19_NM_000034 | 717 | 1679 | None | 962 | 0.9918521 | Mock |\n",
       "| 4 | hg19_NM_000034 | 864 | 1308 | None | 444 | 0.8913909 | Mock |\n",
       "| 5 | hg19_NM_000034 | 903 |  936 | None |  33 | 0.1521063 | Mock |\n",
       "| 6 | hg19_NM_000034 | 906 | 1074 | None | 168 | 0.5682895 | Mock |\n",
       "\n"
      ],
      "text/plain": [
       "  chrom          start end  RBP  span index     condition\n",
       "1 hg19_NM_000034 508    731 None 223  0.6720847 Mock     \n",
       "2 hg19_NM_000034 599    850 None 251  0.7149242 Mock     \n",
       "3 hg19_NM_000034 717   1679 None 962  0.9918521 Mock     \n",
       "4 hg19_NM_000034 864   1308 None 444  0.8913909 Mock     \n",
       "5 hg19_NM_000034 903    936 None  33  0.1521063 Mock     \n",
       "6 hg19_NM_000034 906   1074 None 168  0.5682895 Mock     "
      ]
     },
     "metadata": {},
     "output_type": "display_data"
    }
   ],
   "source": [
    "head(df)"
   ]
  },
  {
   "cell_type": "code",
   "execution_count": 6,
   "metadata": {
    "scrolled": false,
    "vscode": {
     "languageId": "r"
    }
   },
   "outputs": [
    {
     "data": {
      "image/png": "[encoded data removed]",
      "text/plain": [
       "plot without title"
      ]
     },
     "metadata": {
      "image/png": {
       "height": 180,
       "width": 240
      }
     },
     "output_type": "display_data"
    }
   ],
   "source": [
    "options(repr.plot.height=3, repr.plot.width=4)\n",
    "p = ggplot(df, mapping=aes(x=condition, y=index)) + \n",
    "        geom_boxplot(mapping=aes(fill=condition), outlier.shape = NA, width=0.5) + #geom_jitter(width = 0.2, size=0.1) +\n",
    "        stat_compare_means(comparisons=list(c(2,1), c(3,1)), size=2.5) +\n",
    "        scale_x_discrete(labels=c(\"Mock\", \"RSV\", \"VSV\")) +\n",
    "        scale_fill_manual(values=color) +\n",
    "        ylab(\"Index\") + xlab(\"\") +\n",
    "        theme_classic() \n",
    "p"
   ]
  },
  {
   "cell_type": "code",
   "execution_count": 7,
   "metadata": {
    "vscode": {
     "languageId": "r"
    }
   },
   "outputs": [
    {
     "data": {
      "text/html": [
       "0.47091626944925"
      ],
      "text/latex": [
       "0.47091626944925"
      ],
      "text/markdown": [
       "0.47091626944925"
      ],
      "text/plain": [
       "[1] 0.4709163"
      ]
     },
     "metadata": {},
     "output_type": "display_data"
    },
    {
     "data": {
      "text/html": [
       "0.419626192055113"
      ],
      "text/latex": [
       "0.419626192055113"
      ],
      "text/markdown": [
       "0.419626192055113"
      ],
      "text/plain": [
       "[1] 0.4196262"
      ]
     },
     "metadata": {},
     "output_type": "display_data"
    },
    {
     "data": {
      "text/html": [
       "0.480115894990577"
      ],
      "text/latex": [
       "0.480115894990577"
      ],
      "text/markdown": [
       "0.480115894990577"
      ],
      "text/plain": [
       "[1] 0.4801159"
      ]
     },
     "metadata": {},
     "output_type": "display_data"
    }
   ],
   "source": [
    "mean(df[df$condition==\"Mock\",\"index\"])\n",
    "mean(df[df$condition==\"RSV\",\"index\"])\n",
    "mean(df[df$condition==\"VSV\",\"index\"])"
   ]
  },
  {
   "cell_type": "code",
   "execution_count": 8,
   "metadata": {
    "vscode": {
     "languageId": "r"
    }
   },
   "outputs": [
    {
     "data": {
      "text/html": [
       "0.442894138187826"
      ],
      "text/latex": [
       "0.442894138187826"
      ],
      "text/markdown": [
       "0.442894138187826"
      ],
      "text/plain": [
       "[1] 0.4428941"
      ]
     },
     "metadata": {},
     "output_type": "display_data"
    },
    {
     "data": {
      "text/html": [
       "0.390429092703691"
      ],
      "text/latex": [
       "0.390429092703691"
      ],
      "text/markdown": [
       "0.390429092703691"
      ],
      "text/plain": [
       "[1] 0.3904291"
      ]
     },
     "metadata": {},
     "output_type": "display_data"
    },
    {
     "data": {
      "text/html": [
       "0.440101633434598"
      ],
      "text/latex": [
       "0.440101633434598"
      ],
      "text/markdown": [
       "0.440101633434598"
      ],
      "text/plain": [
       "[1] 0.4401016"
      ]
     },
     "metadata": {},
     "output_type": "display_data"
    }
   ],
   "source": [
    "median(df[df$condition==\"Mock\",\"index\"])\n",
    "median(df[df$condition==\"RSV\",\"index\"])\n",
    "median(df[df$condition==\"VSV\",\"index\"])"
   ]
  },
  {
   "cell_type": "code",
   "execution_count": 9,
   "metadata": {
    "vscode": {
     "languageId": "r"
    }
   },
   "outputs": [
    {
     "data": {
      "text/html": [
       "1772734"
      ],
      "text/latex": [
       "1772734"
      ],
      "text/markdown": [
       "1772734"
      ],
      "text/plain": [
       "[1] 1772734"
      ]
     },
     "metadata": {},
     "output_type": "display_data"
    },
    {
     "data": {
      "text/html": [
       "596451"
      ],
      "text/latex": [
       "596451"
      ],
      "text/markdown": [
       "596451"
      ],
      "text/plain": [
       "[1] 596451"
      ]
     },
     "metadata": {},
     "output_type": "display_data"
    },
    {
     "data": {
      "text/html": [
       "159725"
      ],
      "text/latex": [
       "159725"
      ],
      "text/markdown": [
       "159725"
      ],
      "text/plain": [
       "[1] 159725"
      ]
     },
     "metadata": {},
     "output_type": "display_data"
    }
   ],
   "source": [
    "length(df[df$condition==\"Mock\",\"index\"])\n",
    "length(df[df$condition==\"RSV\",\"index\"])\n",
    "length(df[df$condition==\"VSV\",\"index\"])"
   ]
  },
  {
   "cell_type": "code",
   "execution_count": null,
   "metadata": {
    "vscode": {
     "languageId": "r"
    }
   },
   "outputs": [],
   "source": []
  }
 ],
 "metadata": {
  "kernelspec": {
   "display_name": "R",
   "language": "R",
   "name": "ir"
  },
  "language_info": {
   "codemirror_mode": "r",
   "file_extension": ".r",
   "mimetype": "text/x-r-source",
   "name": "R",
   "pygments_lexer": "r",
   "version": "3.6.3"
  }
 },
 "nbformat": 4,
 "nbformat_minor": 2
}
