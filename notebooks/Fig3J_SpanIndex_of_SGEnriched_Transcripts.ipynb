{
 "cells": [
  {
   "cell_type": "code",
   "execution_count": 1,
   "metadata": {},
   "outputs": [],
   "source": [
    "import pandas as pd\n",
    "import numpy as np\n",
    "import matplotlib.pyplot as plt"
   ]
  },
  {
   "cell_type": "code",
   "execution_count": 2,
   "metadata": {},
   "outputs": [],
   "source": [
    "colors = (\"#c23f76\", \"#156697\", \"#f2cc21\", \"#9994c2\", \"#34a198\", \"#5b5b6d\", \"#9e1f63\", \"#a0522d\", \"#f99533\", \"#269c62\")"
   ]
  },
  {
   "cell_type": "code",
   "execution_count": 3,
   "metadata": {},
   "outputs": [],
   "source": [
    "df_vivo = pd.read_csv(\"../analysis/stress_granules/span/hrefseq/G1_kethoxal-K562_M15_B01.txt\", sep=\"\\t\", index_col=0, names=[\"iid\", \"counts\", \"span\", \"cpkm\"])\n",
    "\n",
    "df_arsenite = pd.read_csv(\"../analysis/stress_granules/span/hrefseq/G1_kethoxal-K562-Arsenite-Total_M18_B01.txt\", sep=\"\\t\", index_col=0, names=[\"iid\", \"counts\", \"span\", \"cpkm\"])\n",
    "\n",
    "df_HT = pd.read_csv(\"../analysis/stress_granules/span/hrefseq/G1_kethoxal-K562-siControl+HT-Total_M18_B01.txt\", sep=\"\\t\", index_col=0, names=[\"iid\", \"counts\", \"span\", \"cpkm\"])"
   ]
  },
  {
   "cell_type": "code",
   "execution_count": 4,
   "metadata": {},
   "outputs": [],
   "source": [
    "f_refseq = \"../data/reference/hg19/gtf/hg19_refseq_ID.txt\"\n",
    "\n",
    "df_iid_to_name = pd.read_csv(f_refseq, sep=\"\\t\", names=[\"iid\", \"gene\"])\n",
    "df_apex = pd.read_csv(\"../analysis/stress_granules/APEX.txt\", sep=\"\\t\", names=[\"gene\", \"l2fc\"])\n",
    "df_ps_up = pd.read_csv(\"../analysis/stress_granules/PS_genes_up.txt\", sep=\"\\t\", names=[\"gene\"])\n",
    "df_ps_dw = pd.read_csv(\"../analysis/stress_granules/PS_genes_down.txt\", sep=\"\\t\", names=[\"gene\"])"
   ]
  },
  {
   "cell_type": "code",
   "execution_count": 5,
   "metadata": {},
   "outputs": [],
   "source": [
    "df = pd.merge(df_vivo, df_arsenite, how=\"inner\", on=\"iid\")\n",
    "df = pd.merge(df, df_HT, how=\"inner\", on=\"iid\")\n",
    "df.columns = [\"counts1\", \"span1\", \"cpkm1\", \"counts2\", \"span2\", \"cpkm2\", \"counts3\", \"span3\", \"cpkm3\"]\n",
    "df = pd.merge(df, df_iid_to_name, how=\"left\", on=\"iid\")"
   ]
  },
  {
   "cell_type": "code",
   "execution_count": 6,
   "metadata": {},
   "outputs": [],
   "source": [
    "df_cond_apex = df[df.gene.isin(df_apex.gene)]\n",
    "df_cond_notapex = df[~df.gene.isin(df_apex.gene)]"
   ]
  },
  {
   "cell_type": "code",
   "execution_count": 7,
   "metadata": {},
   "outputs": [],
   "source": [
    "df_cond_ps = df[df.gene.isin(df_ps_up.gene)]\n",
    "df_cond_notps = df[~df.gene.isin(df_ps_up.gene)]"
   ]
  },
  {
   "cell_type": "code",
   "execution_count": 9,
   "metadata": {},
   "outputs": [
    {
     "data": {
      "text/plain": [
       "[None, None, None, None, None, None, None, None, None, None, None, None]"
      ]
     },
     "execution_count": 9,
     "metadata": {},
     "output_type": "execute_result"
    },
    {
     "data": {
      "image/png": "[encoded data removed]",
      "text/plain": [
       "<Figure size 576x432 with 1 Axes>"
      ]
     },
     "metadata": {
      "needs_background": "light"
     },
     "output_type": "display_data"
    }
   ],
   "source": [
    "fig, ax = plt.subplots(figsize=(8,6))\n",
    "bplot = plt.boxplot([df_cond_ps.span1, df_cond_ps.span2, df_cond_ps.span3,\n",
    "                     df_cond_apex.span1, df_cond_apex.span2, df_cond_apex.span3], \n",
    "                    patch_artist=True, sym=\"\")\n",
    "plt.ylabel(\"Span Index\")\n",
    "plt.xticks([1,2,3,4,5,6], [\"PS (vivo)\", \"PS (arsenite)\", \"PS (HT)\", \n",
    "                           \"G3BP1-APEX (vivo)\", \"G3BP1-APEX (arsenite)\", \"G3BP1-APEX (HT)\"], rotation=45)\n",
    "\n",
    "\n",
    "# fill with colors\n",
    "#colors = ['pink', 'lightblue', 'pink', 'lightblue']\n",
    "for patch, color in zip(bplot['boxes'], colors[:3]+colors[:3]):\n",
    "    patch.set_facecolor(color)\n",
    "\n",
    "plt.setp(bplot[\"boxes\"], linewidth=2.0)\n",
    "plt.setp(bplot[\"medians\"], color=\"black\", linewidth=2.0)\n",
    "plt.setp(bplot[\"whiskers\"], color=\"black\", linewidth=2.0)\n",
    "plt.setp(bplot[\"caps\"], color=\"white\")\n",
    "\n",
    "#plt.show()\n",
    "#plt.savefig(\"Fig01_BoxPlot_vivo-vs-arsenite_APEX_and_PS.pdf\", dpi=300)\n",
    "#plt.savefig(\"Fig01_BoxPlot_vivo-vs-arsenite_APEX_and_PS.png\", dpi=300)\n",
    "#plt.savefig(\"Fig01_BoxPlot_vivo-vs-arsenite_APEX_and_PS.svg\", dpi=300)"
   ]
  },
  {
   "cell_type": "code",
   "execution_count": null,
   "metadata": {},
   "outputs": [],
   "source": []
  }
 ],
 "metadata": {
  "kernelspec": {
   "display_name": "py37",
   "language": "python",
   "name": "python3"
  },
  "language_info": {
   "codemirror_mode": {
    "name": "ipython",
    "version": 3
   },
   "file_extension": ".py",
   "mimetype": "text/x-python",
   "name": "python",
   "nbconvert_exporter": "python",
   "pygments_lexer": "ipython3",
   "version": "3.7.12"
  },
  "orig_nbformat": 4
 },
 "nbformat": 4,
 "nbformat_minor": 2
}
